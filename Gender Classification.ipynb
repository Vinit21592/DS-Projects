{
 "cells": [
  {
   "cell_type": "code",
   "execution_count": 1,
   "metadata": {},
   "outputs": [
    {
     "name": "stdout",
     "output_type": "stream",
     "text": [
      "{'man': 0, 'woman': 1}\n",
      "['man', 'woman']\n",
      "[0, 1]\n"
     ]
    }
   ],
   "source": [
    "import cv2\n",
    "import os\n",
    "\n",
    "data_path='E:/Vinit/DATA SCIENCE/Gender Classification/Datasets'\n",
    "categories=os.listdir(data_path)\n",
    "labels=[i for i in range(len(categories))]\n",
    "\n",
    "label_dict=dict(zip(categories,labels))\n",
    "\n",
    "print(label_dict)\n",
    "print(categories)\n",
    "print(labels)"
   ]
  },
  {
   "cell_type": "code",
   "execution_count": 2,
   "metadata": {},
   "outputs": [],
   "source": [
    "img_size=32\n",
    "data=[]\n",
    "target=[]\n",
    "\n",
    "facedata = \"E:/Vinit/DATA SCIENCE/Gender Classification/haarcascade_frontalface_default.xml\"\n",
    "cascade = cv2.CascadeClassifier(facedata)\n",
    "\n",
    "\n",
    "for category in categories:\n",
    "    folder_path=os.path.join(data_path,category)\n",
    "    img_names=os.listdir(folder_path)\n",
    "    \n",
    "    for img_name in img_names:\n",
    "        img_path=os.path.join(folder_path,img_name)\n",
    "        img=cv2.imread(img_path)\n",
    "        faces = cascade.detectMultiScale(img)\n",
    "        try:\n",
    "            for f in faces:\n",
    "                x, y, w, h = [v for v in f]\n",
    "                sub_face = img[y:y + h, x:x + w]\n",
    "                gray=cv2.cvtColor(sub_face,cv2.COLOR_BGR2GRAY)\n",
    "                resized=cv2.resize(gray,(img_size,img_size))\n",
    "                data.append(resized)\n",
    "                target.append(label_dict[category])\n",
    "        except Exception as e:\n",
    "            print('Exception:',e)"
   ]
  },
  {
   "cell_type": "code",
   "execution_count": 3,
   "metadata": {},
   "outputs": [
    {
     "name": "stderr",
     "output_type": "stream",
     "text": [
      "Using TensorFlow backend.\n"
     ]
    }
   ],
   "source": [
    "import numpy as np\n",
    "import warnings\n",
    "warnings.filterwarnings('ignore')\n",
    "data=np.array(data)/255.0\n",
    "data=np.reshape(data,(data.shape[0],img_size,img_size,1))\n",
    "target=np.array(target)\n",
    "\n",
    "from keras.utils import np_utils\n",
    "\n",
    "new_target=np_utils.to_categorical(target)\n",
    "\n",
    "np.save('E:/Vinit/DATA SCIENCE/Gender Classification/training/data',data)\n",
    "np.save('E:/Vinit/DATA SCIENCE/Gender Classification/training/target',new_target)"
   ]
  },
  {
   "cell_type": "code",
   "execution_count": 4,
   "metadata": {},
   "outputs": [],
   "source": [
    "import numpy as np\n",
    "\n",
    "data=np.load('E:/Vinit/DATA SCIENCE/Gender Classification/training/data.npy')\n",
    "target=np.load('E:/Vinit/DATA SCIENCE/Gender Classification/training/target.npy')"
   ]
  },
  {
   "cell_type": "code",
   "execution_count": 5,
   "metadata": {},
   "outputs": [],
   "source": [
    "from tensorflow.keras.models import Sequential\n",
    "from tensorflow.keras.layers import Dense,Activation,Flatten,Dropout\n",
    "from tensorflow.keras.layers import Conv2D,MaxPooling2D\n",
    "from tensorflow.keras.callbacks import ModelCheckpoint\n",
    "\n",
    "noOfFilters=64\n",
    "sizeOfFilter1=(3,3)\n",
    "sizeOfFilter2=(3,3)\n",
    "sizeOfPool=(2,2)\n",
    "noOfNode=64\n",
    "\n",
    "\n",
    "model=Sequential()\n",
    "model.add((Conv2D(32, sizeOfFilter1, input_shape=data.shape[1:],activation='relu')))\n",
    "model.add((Conv2D(32, sizeOfFilter1,activation='relu')))\n",
    "model.add(MaxPooling2D(pool_size=sizeOfPool))\n",
    "\n",
    "model.add((Conv2D(64, sizeOfFilter2,activation='relu')))\n",
    "model.add((Conv2D(64, sizeOfFilter2,activation='relu')))\n",
    "model.add(MaxPooling2D(pool_size=sizeOfPool))\n",
    "model.add(Dropout(0.5))\n",
    "\n",
    "\n",
    "model.add(Flatten())\n",
    "model.add(Dense(noOfNode, activation='relu'))\n",
    "model.add(Dropout(0.5))\n",
    "model.add(Dense(2, activation='softmax'))\n",
    "\n",
    "\n",
    "model.compile(loss='categorical_crossentropy',optimizer='adam',metrics=['accuracy'])"
   ]
  },
  {
   "cell_type": "code",
   "execution_count": 6,
   "metadata": {},
   "outputs": [],
   "source": [
    "from sklearn.model_selection import train_test_split\n",
    "\n",
    "train_data,test_data,train_target,test_target=train_test_split(data,target,test_size=0.1)"
   ]
  },
  {
   "cell_type": "code",
   "execution_count": 9,
   "metadata": {},
   "outputs": [
    {
     "name": "stdout",
     "output_type": "stream",
     "text": [
      "Epoch 1/50\n",
      "13/13 [==============================] - 2s 117ms/step - loss: 0.3263 - accuracy: 0.8497 - val_loss: 0.4641 - val_accuracy: 0.8557\n",
      "Epoch 2/50\n",
      "13/13 [==============================] - 1s 109ms/step - loss: 0.2708 - accuracy: 0.9093 - val_loss: 0.4697 - val_accuracy: 0.8660\n",
      "Epoch 3/50\n",
      "13/13 [==============================] - 1s 107ms/step - loss: 0.2679 - accuracy: 0.8990 - val_loss: 0.4679 - val_accuracy: 0.8763\n",
      "Epoch 4/50\n",
      "13/13 [==============================] - 1s 105ms/step - loss: 0.2004 - accuracy: 0.9249 - val_loss: 0.5128 - val_accuracy: 0.8351\n",
      "Epoch 5/50\n",
      "13/13 [==============================] - 1s 105ms/step - loss: 0.2274 - accuracy: 0.9119 - val_loss: 0.4660 - val_accuracy: 0.8557\n",
      "Epoch 6/50\n",
      "13/13 [==============================] - 1s 103ms/step - loss: 0.1983 - accuracy: 0.9275 - val_loss: 0.4854 - val_accuracy: 0.8660\n",
      "Epoch 7/50\n",
      "13/13 [==============================] - 1s 110ms/step - loss: 0.1714 - accuracy: 0.9404 - val_loss: 0.4336 - val_accuracy: 0.8557\n",
      "Epoch 8/50\n",
      "13/13 [==============================] - 1s 108ms/step - loss: 0.1516 - accuracy: 0.9326 - val_loss: 0.5264 - val_accuracy: 0.8557\n",
      "Epoch 9/50\n",
      "13/13 [==============================] - 1s 108ms/step - loss: 0.1202 - accuracy: 0.9611 - val_loss: 0.5980 - val_accuracy: 0.8557\n",
      "Epoch 10/50\n",
      "13/13 [==============================] - 1s 110ms/step - loss: 0.1638 - accuracy: 0.9301 - val_loss: 0.4959 - val_accuracy: 0.8454\n",
      "Epoch 11/50\n",
      "13/13 [==============================] - 1s 111ms/step - loss: 0.1215 - accuracy: 0.9534 - val_loss: 0.5779 - val_accuracy: 0.8660\n",
      "Epoch 12/50\n",
      "13/13 [==============================] - 1s 114ms/step - loss: 0.1222 - accuracy: 0.9456 - val_loss: 0.4982 - val_accuracy: 0.8247\n",
      "Epoch 13/50\n",
      "13/13 [==============================] - 1s 110ms/step - loss: 0.2979 - accuracy: 0.8756 - val_loss: 0.4978 - val_accuracy: 0.8660\n",
      "Epoch 14/50\n",
      "13/13 [==============================] - 2s 118ms/step - loss: 0.2085 - accuracy: 0.9249 - val_loss: 0.6308 - val_accuracy: 0.8454\n",
      "Epoch 15/50\n",
      "13/13 [==============================] - 1s 111ms/step - loss: 0.1248 - accuracy: 0.9689 - val_loss: 0.6551 - val_accuracy: 0.8351\n",
      "Epoch 16/50\n",
      "13/13 [==============================] - 1s 110ms/step - loss: 0.1448 - accuracy: 0.9560 - val_loss: 0.5779 - val_accuracy: 0.8247\n",
      "Epoch 17/50\n",
      "13/13 [==============================] - 1s 111ms/step - loss: 0.0938 - accuracy: 0.9741 - val_loss: 0.5197 - val_accuracy: 0.8660\n",
      "Epoch 18/50\n",
      "13/13 [==============================] - 1s 110ms/step - loss: 0.0857 - accuracy: 0.9715 - val_loss: 0.5300 - val_accuracy: 0.8763\n",
      "Epoch 19/50\n",
      "13/13 [==============================] - 2s 117ms/step - loss: 0.0751 - accuracy: 0.9819 - val_loss: 0.5885 - val_accuracy: 0.8557\n",
      "Epoch 20/50\n",
      "13/13 [==============================] - 1s 108ms/step - loss: 0.0621 - accuracy: 0.9845 - val_loss: 0.5659 - val_accuracy: 0.8763\n",
      "Epoch 21/50\n",
      "13/13 [==============================] - 1s 115ms/step - loss: 0.0727 - accuracy: 0.9741 - val_loss: 0.6107 - val_accuracy: 0.8660\n",
      "Epoch 22/50\n",
      "13/13 [==============================] - 1s 113ms/step - loss: 0.0767 - accuracy: 0.9741 - val_loss: 0.6565 - val_accuracy: 0.8866\n",
      "Epoch 23/50\n",
      "13/13 [==============================] - 1s 111ms/step - loss: 0.0669 - accuracy: 0.9819 - val_loss: 0.6316 - val_accuracy: 0.8763\n",
      "Epoch 24/50\n",
      "13/13 [==============================] - 2s 123ms/step - loss: 0.0495 - accuracy: 0.9896 - val_loss: 0.6427 - val_accuracy: 0.8660\n",
      "Epoch 25/50\n",
      "13/13 [==============================] - 1s 115ms/step - loss: 0.0409 - accuracy: 0.9896 - val_loss: 0.6243 - val_accuracy: 0.8763\n",
      "Epoch 26/50\n",
      "13/13 [==============================] - 2s 122ms/step - loss: 0.1701 - accuracy: 0.9430 - val_loss: 0.6278 - val_accuracy: 0.8454\n",
      "Epoch 27/50\n",
      "13/13 [==============================] - 1s 115ms/step - loss: 0.0970 - accuracy: 0.9689 - val_loss: 0.7231 - val_accuracy: 0.8041\n",
      "Epoch 28/50\n",
      "13/13 [==============================] - 1s 109ms/step - loss: 0.0645 - accuracy: 0.9767 - val_loss: 0.6083 - val_accuracy: 0.8660\n",
      "Epoch 29/50\n",
      "13/13 [==============================] - 1s 114ms/step - loss: 0.0519 - accuracy: 0.9870 - val_loss: 0.6135 - val_accuracy: 0.8763\n",
      "Epoch 30/50\n",
      "13/13 [==============================] - 1s 111ms/step - loss: 0.0450 - accuracy: 0.9870 - val_loss: 0.7213 - val_accuracy: 0.8660\n",
      "Epoch 31/50\n",
      "13/13 [==============================] - 1s 109ms/step - loss: 0.0489 - accuracy: 0.9845 - val_loss: 0.6387 - val_accuracy: 0.8660\n",
      "Epoch 32/50\n",
      "13/13 [==============================] - 2s 116ms/step - loss: 0.0325 - accuracy: 0.9845 - val_loss: 0.7312 - val_accuracy: 0.8660\n",
      "Epoch 33/50\n",
      "13/13 [==============================] - 1s 107ms/step - loss: 0.0536 - accuracy: 0.9922 - val_loss: 0.7117 - val_accuracy: 0.8660\n",
      "Epoch 34/50\n",
      "13/13 [==============================] - 1s 109ms/step - loss: 0.0332 - accuracy: 0.9870 - val_loss: 0.6867 - val_accuracy: 0.8763\n",
      "Epoch 35/50\n",
      "13/13 [==============================] - 2s 116ms/step - loss: 0.0438 - accuracy: 0.9845 - val_loss: 0.5685 - val_accuracy: 0.8763\n",
      "Epoch 36/50\n",
      "13/13 [==============================] - 1s 107ms/step - loss: 0.2447 - accuracy: 0.8938 - val_loss: 0.5093 - val_accuracy: 0.7835\n",
      "Epoch 37/50\n",
      "13/13 [==============================] - 1s 107ms/step - loss: 0.1751 - accuracy: 0.9378 - val_loss: 0.5605 - val_accuracy: 0.8247\n",
      "Epoch 38/50\n",
      "13/13 [==============================] - 2s 118ms/step - loss: 0.0950 - accuracy: 0.9611 - val_loss: 0.6686 - val_accuracy: 0.8454\n",
      "Epoch 39/50\n",
      "13/13 [==============================] - 1s 112ms/step - loss: 0.0670 - accuracy: 0.9793 - val_loss: 0.7039 - val_accuracy: 0.8660\n",
      "Epoch 40/50\n",
      "13/13 [==============================] - 1s 109ms/step - loss: 0.0580 - accuracy: 0.9819 - val_loss: 0.7566 - val_accuracy: 0.8866\n",
      "Epoch 41/50\n",
      "13/13 [==============================] - 1s 115ms/step - loss: 0.0339 - accuracy: 0.9896 - val_loss: 0.7013 - val_accuracy: 0.8763\n",
      "Epoch 42/50\n",
      "13/13 [==============================] - 1s 104ms/step - loss: 0.0291 - accuracy: 0.9922 - val_loss: 0.6888 - val_accuracy: 0.8866\n",
      "Epoch 43/50\n",
      "13/13 [==============================] - 1s 107ms/step - loss: 0.0238 - accuracy: 0.9974 - val_loss: 0.8273 - val_accuracy: 0.8763\n",
      "Epoch 44/50\n",
      "13/13 [==============================] - 1s 107ms/step - loss: 0.0261 - accuracy: 0.9922 - val_loss: 0.8649 - val_accuracy: 0.8351\n",
      "Epoch 45/50\n",
      "13/13 [==============================] - 1s 109ms/step - loss: 0.0387 - accuracy: 0.9896 - val_loss: 0.8070 - val_accuracy: 0.8660\n",
      "Epoch 46/50\n",
      "13/13 [==============================] - 1s 108ms/step - loss: 0.2256 - accuracy: 0.9352 - val_loss: 0.4971 - val_accuracy: 0.8454\n",
      "Epoch 47/50\n",
      "13/13 [==============================] - 1s 109ms/step - loss: 0.1127 - accuracy: 0.9611 - val_loss: 0.5795 - val_accuracy: 0.8557\n",
      "Epoch 48/50\n",
      "13/13 [==============================] - 1s 112ms/step - loss: 0.0938 - accuracy: 0.9637 - val_loss: 0.6196 - val_accuracy: 0.8454\n",
      "Epoch 49/50\n",
      "13/13 [==============================] - 1s 115ms/step - loss: 0.0546 - accuracy: 0.9767 - val_loss: 0.6623 - val_accuracy: 0.8557\n",
      "Epoch 50/50\n",
      "13/13 [==============================] - 1s 111ms/step - loss: 0.0314 - accuracy: 0.9922 - val_loss: 0.8378 - val_accuracy: 0.8660\n"
     ]
    }
   ],
   "source": [
    "checkpoint = ModelCheckpoint('E:/Vinit/DATA SCIENCE/Gender Classification/training/model-{epoch:03d}.model.hdf5',monitor='val_loss',verbose=0,save_best_only=True,mode='auto')\n",
    "history=model.fit(train_data,train_target,epochs=50,callbacks=[checkpoint],validation_split=0.2)"
   ]
  },
  {
   "cell_type": "code",
   "execution_count": 10,
   "metadata": {},
   "outputs": [],
   "source": [
    "from tensorflow.keras.models import load_model\n",
    "import cv2\n",
    "import numpy as np"
   ]
  },
  {
   "cell_type": "code",
   "execution_count": null,
   "metadata": {},
   "outputs": [],
   "source": [
    "model = load_model('E:/Vinit/DATA SCIENCE/Gender Classification/training/model-019.model.hdf5')\n",
    "\n",
    "face_clsfr=cv2.CascadeClassifier('E:/Vinit/DATA SCIENCE/Gender Classification/haarcascade_frontalface_default.xml')\n",
    "\n",
    "cap=cv2.VideoCapture(0)\n",
    "\n",
    "labels_dict={0:'Male',1:'Female'}\n",
    "color_dict={0:(0,0,255),1:(0,255,0)}"
   ]
  },
  {
   "cell_type": "code",
   "execution_count": null,
   "metadata": {},
   "outputs": [],
   "source": [
    "while(True):\n",
    "    \n",
    "    ret,img=cap.read()\n",
    "    gray=cv2.cvtColor(img,cv2.COLOR_BGR2GRAY)\n",
    "    faces=face_clsfr.detectMultiScale(gray,1.3,3)\n",
    "    \n",
    "    for (x,y,w,h) in faces:\n",
    "        \n",
    "        face_img=gray[y:y+w,x:x+w]\n",
    "        resized=cv2.resize(face_img,(32,32))\n",
    "        normalized=resized/255.0\n",
    "        reshaped=np.reshape(normalized,(1,32,32,1))\n",
    "        result=model.predict(reshaped)\n",
    "        \n",
    "        label=np.argmax(result,axis=1)[0]\n",
    "        \n",
    "        cv2.rectangle(img,(x,y),(x+w,y+h),color_dict[label],2)\n",
    "        cv2.rectangle(img,(x,y-40),(x+w,y),color_dict[label],-1)\n",
    "        cv2.putText(img, labels_dict[label], (x, y-10),cv2.FONT_HERSHEY_SIMPLEX,0.8,(255,255,255),2)\n",
    "        \n",
    "        \n",
    "    cv2.imshow('Result',img)\n",
    "    key=cv2.waitKey(1)\n",
    "    \n",
    "    if (key==27):\n",
    "        break\n",
    "    if ret==False:    \n",
    "        break\n",
    "        \n",
    "cv2.destroyAllWindows()\n",
    "cap.release()"
   ]
  },
  {
   "cell_type": "code",
   "execution_count": null,
   "metadata": {},
   "outputs": [],
   "source": []
  }
 ],
 "metadata": {
  "kernelspec": {
   "display_name": "Python 3",
   "language": "python",
   "name": "python3"
  },
  "language_info": {
   "codemirror_mode": {
    "name": "ipython",
    "version": 3
   },
   "file_extension": ".py",
   "mimetype": "text/x-python",
   "name": "python",
   "nbconvert_exporter": "python",
   "pygments_lexer": "ipython3",
   "version": "3.7.4"
  }
 },
 "nbformat": 4,
 "nbformat_minor": 2
}
